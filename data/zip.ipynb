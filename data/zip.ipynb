{
 "metadata": {
  "language_info": {
   "codemirror_mode": {
    "name": "ipython",
    "version": 3
   },
   "file_extension": ".py",
   "mimetype": "text/x-python",
   "name": "python",
   "nbconvert_exporter": "python",
   "pygments_lexer": "ipython3",
   "version": "3.6.10-final"
  },
  "orig_nbformat": 2,
  "kernelspec": {
   "name": "Python 3.6.10 64-bit",
   "display_name": "Python 3.6.10 64-bit",
   "metadata": {
    "interpreter": {
     "hash": "a95806efec5adc91782eef33a89606a4616295d95a48af49f7a16c747bf6c3ca"
    }
   }
  }
 },
 "nbformat": 4,
 "nbformat_minor": 2,
 "cells": [
  {
   "cell_type": "code",
   "execution_count": 10,
   "metadata": {},
   "outputs": [],
   "source": [
    "import pandas as pd"
   ]
  },
  {
   "source": [
    "## Import Data and convert to DataFrame"
   ],
   "cell_type": "markdown",
   "metadata": {}
  },
  {
   "cell_type": "code",
   "execution_count": 31,
   "metadata": {},
   "outputs": [],
   "source": [
    "#Import data\n",
    "raw_data = \"raw_data.csv\"\n",
    "coi_data = \"coi_data.csv\"\n",
    "zip_fips = \"fips_to_zip.csv\"\n",
    "zip_ll = \"zip_to_latlon.csv\"\n",
    "\n",
    "#Convert to pandas dataframe\n",
    "raw_data_df = pd.read_csv(raw_data, encoding=\"utf-8\")\n",
    "coi_data_df = pd.read_csv(coi_data, encoding=\"utf-8\")\n",
    "zip_fips_df = pd.read_csv(zip_fips, encoding=\"utf-8\")\n",
    "zip_ll_df = pd.read_csv(zip_ll, encoding=\"utf-8\")"
   ]
  },
  {
   "source": [
    "## Prepare Zipcode and FIPS dataset for merging"
   ],
   "cell_type": "markdown",
   "metadata": {}
  },
  {
   "cell_type": "code",
   "execution_count": 32,
   "metadata": {},
   "outputs": [
    {
     "output_type": "execute_result",
     "data": {
      "text/plain": [
       "         Zip         COUNTYNAME STATE  countyfips CLASSFP\n",
       "0      36003     Autauga County    AL        1001      H1\n",
       "1      36006     Autauga County    AL        1001      H1\n",
       "2      36008     Autauga County    AL        1001      H1\n",
       "3      36022     Autauga County    AL        1001      H1\n",
       "4      36051     Autauga County    AL        1001      H1\n",
       "...      ...                ...   ...         ...     ...\n",
       "46850    820   St. Croix Island    VI       78010      H4\n",
       "46851    840   St. Croix Island    VI       78010      H4\n",
       "46852    850   St. Croix Island    VI       78010      H4\n",
       "46853    830    St. John Island    VI       78020      H4\n",
       "46854    802  St. Thomas Island    VI       78030      H4\n",
       "\n",
       "[46855 rows x 5 columns]"
      ],
      "text/html": "<div>\n<style scoped>\n    .dataframe tbody tr th:only-of-type {\n        vertical-align: middle;\n    }\n\n    .dataframe tbody tr th {\n        vertical-align: top;\n    }\n\n    .dataframe thead th {\n        text-align: right;\n    }\n</style>\n<table border=\"1\" class=\"dataframe\">\n  <thead>\n    <tr style=\"text-align: right;\">\n      <th></th>\n      <th>Zip</th>\n      <th>COUNTYNAME</th>\n      <th>STATE</th>\n      <th>countyfips</th>\n      <th>CLASSFP</th>\n    </tr>\n  </thead>\n  <tbody>\n    <tr>\n      <th>0</th>\n      <td>36003</td>\n      <td>Autauga County</td>\n      <td>AL</td>\n      <td>1001</td>\n      <td>H1</td>\n    </tr>\n    <tr>\n      <th>1</th>\n      <td>36006</td>\n      <td>Autauga County</td>\n      <td>AL</td>\n      <td>1001</td>\n      <td>H1</td>\n    </tr>\n    <tr>\n      <th>2</th>\n      <td>36008</td>\n      <td>Autauga County</td>\n      <td>AL</td>\n      <td>1001</td>\n      <td>H1</td>\n    </tr>\n    <tr>\n      <th>3</th>\n      <td>36022</td>\n      <td>Autauga County</td>\n      <td>AL</td>\n      <td>1001</td>\n      <td>H1</td>\n    </tr>\n    <tr>\n      <th>4</th>\n      <td>36051</td>\n      <td>Autauga County</td>\n      <td>AL</td>\n      <td>1001</td>\n      <td>H1</td>\n    </tr>\n    <tr>\n      <th>...</th>\n      <td>...</td>\n      <td>...</td>\n      <td>...</td>\n      <td>...</td>\n      <td>...</td>\n    </tr>\n    <tr>\n      <th>46850</th>\n      <td>820</td>\n      <td>St. Croix Island</td>\n      <td>VI</td>\n      <td>78010</td>\n      <td>H4</td>\n    </tr>\n    <tr>\n      <th>46851</th>\n      <td>840</td>\n      <td>St. Croix Island</td>\n      <td>VI</td>\n      <td>78010</td>\n      <td>H4</td>\n    </tr>\n    <tr>\n      <th>46852</th>\n      <td>850</td>\n      <td>St. Croix Island</td>\n      <td>VI</td>\n      <td>78010</td>\n      <td>H4</td>\n    </tr>\n    <tr>\n      <th>46853</th>\n      <td>830</td>\n      <td>St. John Island</td>\n      <td>VI</td>\n      <td>78020</td>\n      <td>H4</td>\n    </tr>\n    <tr>\n      <th>46854</th>\n      <td>802</td>\n      <td>St. Thomas Island</td>\n      <td>VI</td>\n      <td>78030</td>\n      <td>H4</td>\n    </tr>\n  </tbody>\n</table>\n<p>46855 rows × 5 columns</p>\n</div>"
     },
     "metadata": {},
     "execution_count": 32
    }
   ],
   "source": [
    "#Rename zip and county fips for merge\n",
    "zip_fips_df = zip_fips_df.rename(columns={\"ZIP\": \"Zip\", \"STCOUNTYFP\": \"countyfips\"})\n",
    "zip_fips_df"
   ]
  },
  {
   "cell_type": "code",
   "execution_count": 35,
   "metadata": {},
   "outputs": [
    {
     "output_type": "execute_result",
     "data": {
      "text/plain": [
       "         Zip  countyfips   Latitude  Longitude\n",
       "0      36003        1001  32.439967 -86.688010\n",
       "1      36006        1001  32.652790 -86.714300\n",
       "2      36006        1021  32.652790 -86.714300\n",
       "3      36008        1001  32.501649 -86.572711\n",
       "4      36022        1001  32.612619 -86.394970\n",
       "...      ...         ...        ...        ...\n",
       "46512    820       78010  17.734211 -64.734694\n",
       "46513    840       78010  17.734211 -64.734694\n",
       "46514    850       78010  17.734211 -64.734694\n",
       "46515    830       78020  18.328160 -64.740737\n",
       "46516    802       78030  18.322285 -64.963715\n",
       "\n",
       "[46517 rows x 4 columns]"
      ],
      "text/html": "<div>\n<style scoped>\n    .dataframe tbody tr th:only-of-type {\n        vertical-align: middle;\n    }\n\n    .dataframe tbody tr th {\n        vertical-align: top;\n    }\n\n    .dataframe thead th {\n        text-align: right;\n    }\n</style>\n<table border=\"1\" class=\"dataframe\">\n  <thead>\n    <tr style=\"text-align: right;\">\n      <th></th>\n      <th>Zip</th>\n      <th>countyfips</th>\n      <th>Latitude</th>\n      <th>Longitude</th>\n    </tr>\n  </thead>\n  <tbody>\n    <tr>\n      <th>0</th>\n      <td>36003</td>\n      <td>1001</td>\n      <td>32.439967</td>\n      <td>-86.688010</td>\n    </tr>\n    <tr>\n      <th>1</th>\n      <td>36006</td>\n      <td>1001</td>\n      <td>32.652790</td>\n      <td>-86.714300</td>\n    </tr>\n    <tr>\n      <th>2</th>\n      <td>36006</td>\n      <td>1021</td>\n      <td>32.652790</td>\n      <td>-86.714300</td>\n    </tr>\n    <tr>\n      <th>3</th>\n      <td>36008</td>\n      <td>1001</td>\n      <td>32.501649</td>\n      <td>-86.572711</td>\n    </tr>\n    <tr>\n      <th>4</th>\n      <td>36022</td>\n      <td>1001</td>\n      <td>32.612619</td>\n      <td>-86.394970</td>\n    </tr>\n    <tr>\n      <th>...</th>\n      <td>...</td>\n      <td>...</td>\n      <td>...</td>\n      <td>...</td>\n    </tr>\n    <tr>\n      <th>46512</th>\n      <td>820</td>\n      <td>78010</td>\n      <td>17.734211</td>\n      <td>-64.734694</td>\n    </tr>\n    <tr>\n      <th>46513</th>\n      <td>840</td>\n      <td>78010</td>\n      <td>17.734211</td>\n      <td>-64.734694</td>\n    </tr>\n    <tr>\n      <th>46514</th>\n      <td>850</td>\n      <td>78010</td>\n      <td>17.734211</td>\n      <td>-64.734694</td>\n    </tr>\n    <tr>\n      <th>46515</th>\n      <td>830</td>\n      <td>78020</td>\n      <td>18.328160</td>\n      <td>-64.740737</td>\n    </tr>\n    <tr>\n      <th>46516</th>\n      <td>802</td>\n      <td>78030</td>\n      <td>18.322285</td>\n      <td>-64.963715</td>\n    </tr>\n  </tbody>\n</table>\n<p>46517 rows × 4 columns</p>\n</div>"
     },
     "metadata": {},
     "execution_count": 35
    }
   ],
   "source": [
    "#Merge Zip-Fips-Lat Long\n",
    "merge_zip_fip_df = zip_fips_df.merge(zip_ll_df, on=\"Zip\")\n",
    "merge_zip_fip_df = merge_zip_fip_df[[\"Zip\", \"countyfips\", \"Latitude\", \"Longitude\"]]\n",
    "merge_zip_fip_df"
   ]
  },
  {
   "cell_type": "code",
   "execution_count": 42,
   "metadata": {},
   "outputs": [],
   "source": [
    "#Merge on countyfips for final RAW dataset\n",
    "raw_zip_df = raw_data_df.merge(merge_zip_fip_df, on=\"countyfips\")"
   ]
  },
  {
   "cell_type": "code",
   "execution_count": 43,
   "metadata": {},
   "outputs": [],
   "source": [
    "#Merge on countyfips for final COI dataset\n",
    "coi_zip_df = coi_data_df.merge(merge_zip_fip_df, on=\"countyfips\")"
   ]
  },
  {
   "source": [
    "## Upload CSV files to data folder"
   ],
   "cell_type": "markdown",
   "metadata": {}
  },
  {
   "cell_type": "code",
   "execution_count": 44,
   "metadata": {},
   "outputs": [
    {
     "output_type": "error",
     "ename": "KeyboardInterrupt",
     "evalue": "",
     "traceback": [
      "\u001b[0;31m---------------------------------------------------------------------------\u001b[0m",
      "\u001b[0;31mKeyboardInterrupt\u001b[0m                         Traceback (most recent call last)",
      "\u001b[0;32m<ipython-input-44-b8dcde1a1946>\u001b[0m in \u001b[0;36m<module>\u001b[0;34m\u001b[0m\n\u001b[0;32m----> 1\u001b[0;31m \u001b[0mraw_zip_df\u001b[0m\u001b[0;34m.\u001b[0m\u001b[0mto_csv\u001b[0m\u001b[0;34m(\u001b[0m\u001b[0;34m'raw_zip_data.csv'\u001b[0m\u001b[0;34m)\u001b[0m\u001b[0;34m\u001b[0m\u001b[0;34m\u001b[0m\u001b[0m\n\u001b[0m",
      "\u001b[0;32m~/opt/anaconda3/envs/PythonData/lib/python3.6/site-packages/pandas/core/generic.py\u001b[0m in \u001b[0;36mto_csv\u001b[0;34m(self, path_or_buf, sep, na_rep, float_format, columns, header, index, index_label, mode, encoding, compression, quoting, quotechar, line_terminator, chunksize, date_format, doublequote, escapechar, decimal)\u001b[0m\n\u001b[1;32m   3202\u001b[0m             \u001b[0mdecimal\u001b[0m\u001b[0;34m=\u001b[0m\u001b[0mdecimal\u001b[0m\u001b[0;34m,\u001b[0m\u001b[0;34m\u001b[0m\u001b[0;34m\u001b[0m\u001b[0m\n\u001b[1;32m   3203\u001b[0m         )\n\u001b[0;32m-> 3204\u001b[0;31m         \u001b[0mformatter\u001b[0m\u001b[0;34m.\u001b[0m\u001b[0msave\u001b[0m\u001b[0;34m(\u001b[0m\u001b[0;34m)\u001b[0m\u001b[0;34m\u001b[0m\u001b[0;34m\u001b[0m\u001b[0m\n\u001b[0m\u001b[1;32m   3205\u001b[0m \u001b[0;34m\u001b[0m\u001b[0m\n\u001b[1;32m   3206\u001b[0m         \u001b[0;32mif\u001b[0m \u001b[0mpath_or_buf\u001b[0m \u001b[0;32mis\u001b[0m \u001b[0;32mNone\u001b[0m\u001b[0;34m:\u001b[0m\u001b[0;34m\u001b[0m\u001b[0;34m\u001b[0m\u001b[0m\n",
      "\u001b[0;32m~/opt/anaconda3/envs/PythonData/lib/python3.6/site-packages/pandas/io/formats/csvs.py\u001b[0m in \u001b[0;36msave\u001b[0;34m(self)\u001b[0m\n\u001b[1;32m    202\u001b[0m             )\n\u001b[1;32m    203\u001b[0m \u001b[0;34m\u001b[0m\u001b[0m\n\u001b[0;32m--> 204\u001b[0;31m             \u001b[0mself\u001b[0m\u001b[0;34m.\u001b[0m\u001b[0m_save\u001b[0m\u001b[0;34m(\u001b[0m\u001b[0;34m)\u001b[0m\u001b[0;34m\u001b[0m\u001b[0;34m\u001b[0m\u001b[0m\n\u001b[0m\u001b[1;32m    205\u001b[0m \u001b[0;34m\u001b[0m\u001b[0m\n\u001b[1;32m    206\u001b[0m         \u001b[0;32mfinally\u001b[0m\u001b[0;34m:\u001b[0m\u001b[0;34m\u001b[0m\u001b[0;34m\u001b[0m\u001b[0m\n",
      "\u001b[0;32m~/opt/anaconda3/envs/PythonData/lib/python3.6/site-packages/pandas/io/formats/csvs.py\u001b[0m in \u001b[0;36m_save\u001b[0;34m(self)\u001b[0m\n\u001b[1;32m    321\u001b[0m                 \u001b[0;32mbreak\u001b[0m\u001b[0;34m\u001b[0m\u001b[0;34m\u001b[0m\u001b[0m\n\u001b[1;32m    322\u001b[0m \u001b[0;34m\u001b[0m\u001b[0m\n\u001b[0;32m--> 323\u001b[0;31m             \u001b[0mself\u001b[0m\u001b[0;34m.\u001b[0m\u001b[0m_save_chunk\u001b[0m\u001b[0;34m(\u001b[0m\u001b[0mstart_i\u001b[0m\u001b[0;34m,\u001b[0m \u001b[0mend_i\u001b[0m\u001b[0;34m)\u001b[0m\u001b[0;34m\u001b[0m\u001b[0;34m\u001b[0m\u001b[0m\n\u001b[0m\u001b[1;32m    324\u001b[0m \u001b[0;34m\u001b[0m\u001b[0m\n\u001b[1;32m    325\u001b[0m     \u001b[0;32mdef\u001b[0m \u001b[0m_save_chunk\u001b[0m\u001b[0;34m(\u001b[0m\u001b[0mself\u001b[0m\u001b[0;34m,\u001b[0m \u001b[0mstart_i\u001b[0m\u001b[0;34m:\u001b[0m \u001b[0mint\u001b[0m\u001b[0;34m,\u001b[0m \u001b[0mend_i\u001b[0m\u001b[0;34m:\u001b[0m \u001b[0mint\u001b[0m\u001b[0;34m)\u001b[0m \u001b[0;34m->\u001b[0m \u001b[0;32mNone\u001b[0m\u001b[0;34m:\u001b[0m\u001b[0;34m\u001b[0m\u001b[0;34m\u001b[0m\u001b[0m\n",
      "\u001b[0;32m~/opt/anaconda3/envs/PythonData/lib/python3.6/site-packages/pandas/io/formats/csvs.py\u001b[0m in \u001b[0;36m_save_chunk\u001b[0;34m(self, start_i, end_i)\u001b[0m\n\u001b[1;32m    336\u001b[0m                 \u001b[0mdecimal\u001b[0m\u001b[0;34m=\u001b[0m\u001b[0mself\u001b[0m\u001b[0;34m.\u001b[0m\u001b[0mdecimal\u001b[0m\u001b[0;34m,\u001b[0m\u001b[0;34m\u001b[0m\u001b[0;34m\u001b[0m\u001b[0m\n\u001b[1;32m    337\u001b[0m                 \u001b[0mdate_format\u001b[0m\u001b[0;34m=\u001b[0m\u001b[0mself\u001b[0m\u001b[0;34m.\u001b[0m\u001b[0mdate_format\u001b[0m\u001b[0;34m,\u001b[0m\u001b[0;34m\u001b[0m\u001b[0;34m\u001b[0m\u001b[0m\n\u001b[0;32m--> 338\u001b[0;31m                 \u001b[0mquoting\u001b[0m\u001b[0;34m=\u001b[0m\u001b[0mself\u001b[0m\u001b[0;34m.\u001b[0m\u001b[0mquoting\u001b[0m\u001b[0;34m,\u001b[0m\u001b[0;34m\u001b[0m\u001b[0;34m\u001b[0m\u001b[0m\n\u001b[0m\u001b[1;32m    339\u001b[0m             )\n\u001b[1;32m    340\u001b[0m \u001b[0;34m\u001b[0m\u001b[0m\n",
      "\u001b[0;32m~/opt/anaconda3/envs/PythonData/lib/python3.6/site-packages/pandas/core/internals/blocks.py\u001b[0m in \u001b[0;36mto_native_types\u001b[0;34m(self, slicer, na_rep, float_format, decimal, quoting, **kwargs)\u001b[0m\n\u001b[1;32m   2065\u001b[0m \u001b[0;34m\u001b[0m\u001b[0m\n\u001b[1;32m   2066\u001b[0m             \u001b[0;32mif\u001b[0m \u001b[0;32mnot\u001b[0m \u001b[0mquoting\u001b[0m\u001b[0;34m:\u001b[0m\u001b[0;34m\u001b[0m\u001b[0;34m\u001b[0m\u001b[0m\n\u001b[0;32m-> 2067\u001b[0;31m                 \u001b[0mvalues\u001b[0m \u001b[0;34m=\u001b[0m \u001b[0mvalues\u001b[0m\u001b[0;34m.\u001b[0m\u001b[0mastype\u001b[0m\u001b[0;34m(\u001b[0m\u001b[0mstr\u001b[0m\u001b[0;34m)\u001b[0m\u001b[0;34m\u001b[0m\u001b[0;34m\u001b[0m\u001b[0m\n\u001b[0m\u001b[1;32m   2068\u001b[0m             \u001b[0;32melse\u001b[0m\u001b[0;34m:\u001b[0m\u001b[0;34m\u001b[0m\u001b[0;34m\u001b[0m\u001b[0m\n\u001b[1;32m   2069\u001b[0m                 \u001b[0mvalues\u001b[0m \u001b[0;34m=\u001b[0m \u001b[0mnp\u001b[0m\u001b[0;34m.\u001b[0m\u001b[0marray\u001b[0m\u001b[0;34m(\u001b[0m\u001b[0mvalues\u001b[0m\u001b[0;34m,\u001b[0m \u001b[0mdtype\u001b[0m\u001b[0;34m=\u001b[0m\u001b[0;34m\"object\"\u001b[0m\u001b[0;34m)\u001b[0m\u001b[0;34m\u001b[0m\u001b[0;34m\u001b[0m\u001b[0m\n",
      "\u001b[0;31mKeyboardInterrupt\u001b[0m: "
     ]
    }
   ],
   "source": [
    "raw_zip_df.to_csv('raw_zip_data.csv')"
   ]
  },
  {
   "cell_type": "code",
   "execution_count": null,
   "metadata": {},
   "outputs": [],
   "source": [
    "coi_zip_df.to_csv('coi_zip_data.csv')"
   ]
  }
 ]
}