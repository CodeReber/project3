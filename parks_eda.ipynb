{
 "metadata": {
  "language_info": {
   "codemirror_mode": {
    "name": "ipython",
    "version": 3
   },
   "file_extension": ".py",
   "mimetype": "text/x-python",
   "name": "python",
   "nbconvert_exporter": "python",
   "pygments_lexer": "ipython3",
   "version": "3.6.10-final"
  },
  "orig_nbformat": 2,
  "kernelspec": {
   "name": "Python 3.6.10 64-bit ('PythonData': conda)",
   "display_name": "Python 3.6.10 64-bit ('PythonData': conda)",
   "metadata": {
    "interpreter": {
     "hash": "a95806efec5adc91782eef33a89606a4616295d95a48af49f7a16c747bf6c3ca"
    }
   }
  }
 },
 "nbformat": 4,
 "nbformat_minor": 2,
 "cells": [
  {
   "cell_type": "code",
   "execution_count": 1,
   "metadata": {},
   "outputs": [],
   "source": [
    "import pandas as pd"
   ]
  },
  {
   "cell_type": "code",
   "execution_count": 5,
   "metadata": {},
   "outputs": [],
   "source": [
    "parks = \"csv_files/parks.csv\"\n",
    "species = \"csv_files/species.csv\""
   ]
  },
  {
   "cell_type": "code",
   "execution_count": 6,
   "metadata": {},
   "outputs": [],
   "source": [
    "parks = pd.read_csv(parks, encoding=\"UTF-8\")\n",
    "species = pd.read_csv(species, encoding=\"UTF-8\")"
   ]
  },
  {
   "cell_type": "code",
   "execution_count": 7,
   "metadata": {},
   "outputs": [
    {
     "output_type": "execute_result",
     "data": {
      "text/plain": [
       "  Species ID             Park Name Category         Order    Family  \\\n",
       "0  ACAD-1000  Acadia National Park   Mammal  Artiodactyla  Cervidae   \n",
       "1  ACAD-1001  Acadia National Park   Mammal  Artiodactyla  Cervidae   \n",
       "2  ACAD-1002  Acadia National Park   Mammal     Carnivora   Canidae   \n",
       "3  ACAD-1003  Acadia National Park   Mammal     Carnivora   Canidae   \n",
       "4  ACAD-1004  Acadia National Park   Mammal     Carnivora   Canidae   \n",
       "\n",
       "          Scientific Name                                       Common Names  \\\n",
       "0             Alces alces                                              Moose   \n",
       "1  Odocoileus virginianus  Northern White-Tailed Deer, Virginia Deer, Whi...   \n",
       "2           Canis latrans                             Coyote, Eastern Coyote   \n",
       "3             Canis lupus        Eastern Timber Wolf, Gray Wolf, Timber Wolf   \n",
       "4           Vulpes vulpes  Black Fox, Cross Fox, Eastern Red Fox, Fox, Re...   \n",
       "\n",
       "  Record Status     Occurrence  Nativeness Abundance Seasonality  \\\n",
       "0      Approved        Present      Native      Rare    Resident   \n",
       "1      Approved        Present      Native  Abundant         NaN   \n",
       "2      Approved        Present  Not Native    Common         NaN   \n",
       "3      Approved  Not Confirmed      Native       NaN         NaN   \n",
       "4      Approved        Present     Unknown    Common     Breeder   \n",
       "\n",
       "  Conservation Status Unnamed: 13  \n",
       "0                 NaN         NaN  \n",
       "1                 NaN         NaN  \n",
       "2  Species of Concern         NaN  \n",
       "3          Endangered         NaN  \n",
       "4                 NaN         NaN  "
      ],
      "text/html": "<div>\n<style scoped>\n    .dataframe tbody tr th:only-of-type {\n        vertical-align: middle;\n    }\n\n    .dataframe tbody tr th {\n        vertical-align: top;\n    }\n\n    .dataframe thead th {\n        text-align: right;\n    }\n</style>\n<table border=\"1\" class=\"dataframe\">\n  <thead>\n    <tr style=\"text-align: right;\">\n      <th></th>\n      <th>Species ID</th>\n      <th>Park Name</th>\n      <th>Category</th>\n      <th>Order</th>\n      <th>Family</th>\n      <th>Scientific Name</th>\n      <th>Common Names</th>\n      <th>Record Status</th>\n      <th>Occurrence</th>\n      <th>Nativeness</th>\n      <th>Abundance</th>\n      <th>Seasonality</th>\n      <th>Conservation Status</th>\n      <th>Unnamed: 13</th>\n    </tr>\n  </thead>\n  <tbody>\n    <tr>\n      <th>0</th>\n      <td>ACAD-1000</td>\n      <td>Acadia National Park</td>\n      <td>Mammal</td>\n      <td>Artiodactyla</td>\n      <td>Cervidae</td>\n      <td>Alces alces</td>\n      <td>Moose</td>\n      <td>Approved</td>\n      <td>Present</td>\n      <td>Native</td>\n      <td>Rare</td>\n      <td>Resident</td>\n      <td>NaN</td>\n      <td>NaN</td>\n    </tr>\n    <tr>\n      <th>1</th>\n      <td>ACAD-1001</td>\n      <td>Acadia National Park</td>\n      <td>Mammal</td>\n      <td>Artiodactyla</td>\n      <td>Cervidae</td>\n      <td>Odocoileus virginianus</td>\n      <td>Northern White-Tailed Deer, Virginia Deer, Whi...</td>\n      <td>Approved</td>\n      <td>Present</td>\n      <td>Native</td>\n      <td>Abundant</td>\n      <td>NaN</td>\n      <td>NaN</td>\n      <td>NaN</td>\n    </tr>\n    <tr>\n      <th>2</th>\n      <td>ACAD-1002</td>\n      <td>Acadia National Park</td>\n      <td>Mammal</td>\n      <td>Carnivora</td>\n      <td>Canidae</td>\n      <td>Canis latrans</td>\n      <td>Coyote, Eastern Coyote</td>\n      <td>Approved</td>\n      <td>Present</td>\n      <td>Not Native</td>\n      <td>Common</td>\n      <td>NaN</td>\n      <td>Species of Concern</td>\n      <td>NaN</td>\n    </tr>\n    <tr>\n      <th>3</th>\n      <td>ACAD-1003</td>\n      <td>Acadia National Park</td>\n      <td>Mammal</td>\n      <td>Carnivora</td>\n      <td>Canidae</td>\n      <td>Canis lupus</td>\n      <td>Eastern Timber Wolf, Gray Wolf, Timber Wolf</td>\n      <td>Approved</td>\n      <td>Not Confirmed</td>\n      <td>Native</td>\n      <td>NaN</td>\n      <td>NaN</td>\n      <td>Endangered</td>\n      <td>NaN</td>\n    </tr>\n    <tr>\n      <th>4</th>\n      <td>ACAD-1004</td>\n      <td>Acadia National Park</td>\n      <td>Mammal</td>\n      <td>Carnivora</td>\n      <td>Canidae</td>\n      <td>Vulpes vulpes</td>\n      <td>Black Fox, Cross Fox, Eastern Red Fox, Fox, Re...</td>\n      <td>Approved</td>\n      <td>Present</td>\n      <td>Unknown</td>\n      <td>Common</td>\n      <td>Breeder</td>\n      <td>NaN</td>\n      <td>NaN</td>\n    </tr>\n  </tbody>\n</table>\n</div>"
     },
     "metadata": {},
     "execution_count": 7
    }
   ],
   "source": [
    "species.head()"
   ]
  },
  {
   "cell_type": "code",
   "execution_count": 9,
   "metadata": {},
   "outputs": [
    {
     "output_type": "execute_result",
     "data": {
      "text/plain": [
       "array(['Mammal', 'Bird', 'Reptile', 'Amphibian', 'Fish', 'Vascular Plant',\n",
       "       'Spider/Scorpion', 'Insect', 'Invertebrate', 'Fungi',\n",
       "       'Nonvascular Plant', 'Crab/Lobster/Shrimp', 'Slug/Snail', 'Algae'],\n",
       "      dtype=object)"
      ]
     },
     "metadata": {},
     "execution_count": 9
    }
   ],
   "source": [
    "cat = species[\"Category\"].unique()\n",
    "cat"
   ]
  },
  {
   "cell_type": "code",
   "execution_count": null,
   "metadata": {},
   "outputs": [],
   "source": []
  }
 ]
}